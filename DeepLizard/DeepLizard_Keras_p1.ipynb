{
 "cells": [
  {
   "cell_type": "markdown",
   "metadata": {},
   "source": [
    "# Keras with Mandy - Part 1\n",
    "\n",
    "This is a code-along with **Mandy** from [DeepLizard.com]( https://deeplizard.com/learn/playlist/PLZbbT5o_s2xrwRnXk_yCPtnqqo4_u2YGL)\n",
    "\n",
    " <img src=\"DeepLizard_logo.png\" width=\"200\" align=\"left\"/>"
   ]
  },
  {
   "cell_type": "markdown",
   "metadata": {
    "toc": true
   },
   "source": [
    "<h1>Table of Contents<span class=\"tocSkip\"></span></h1>\n",
    "<div class=\"toc\"><ul class=\"toc-item\"><li><span><a href=\"#Data-Preparation-and-Processing\" data-toc-modified-id=\"Data-Preparation-and-Processing-1\"><span class=\"toc-item-num\">1&nbsp;&nbsp;</span>Data Preparation and Processing</a></span><ul class=\"toc-item\"><li><span><a href=\"#Example-Data-(Clinical-Trial)\" data-toc-modified-id=\"Example-Data-(Clinical-Trial)-1.1\"><span class=\"toc-item-num\">1.1&nbsp;&nbsp;</span>Example Data (Clinical Trial)</a></span></li><li><span><a href=\"#Plot-data\" data-toc-modified-id=\"Plot-data-1.2\"><span class=\"toc-item-num\">1.2&nbsp;&nbsp;</span>Plot data</a></span></li><li><span><a href=\"#Make-NumPy-arrays\" data-toc-modified-id=\"Make-NumPy-arrays-1.3\"><span class=\"toc-item-num\">1.3&nbsp;&nbsp;</span>Make NumPy arrays</a></span></li><li><span><a href=\"#Shuffle-the-data\" data-toc-modified-id=\"Shuffle-the-data-1.4\"><span class=\"toc-item-num\">1.4&nbsp;&nbsp;</span>Shuffle the data</a></span></li><li><span><a href=\"#Rescale-the-the-data\" data-toc-modified-id=\"Rescale-the-the-data-1.5\"><span class=\"toc-item-num\">1.5&nbsp;&nbsp;</span>Rescale the the data</a></span></li></ul></li><li><span><a href=\"#Keras-TensorFlow-model\" data-toc-modified-id=\"Keras-TensorFlow-model-2\"><span class=\"toc-item-num\">2&nbsp;&nbsp;</span>Keras TensorFlow model</a></span><ul class=\"toc-item\"><li><span><a href=\"#Set-up-Tensorflow-and-Keras\" data-toc-modified-id=\"Set-up-Tensorflow-and-Keras-2.1\"><span class=\"toc-item-num\">2.1&nbsp;&nbsp;</span>Set up Tensorflow and Keras</a></span></li><li><span><a href=\"#Run-Tensorflow-on-NVidia-GPU\" data-toc-modified-id=\"Run-Tensorflow-on-NVidia-GPU-2.2\"><span class=\"toc-item-num\">2.2&nbsp;&nbsp;</span>Run Tensorflow on NVidia GPU</a></span></li><li><span><a href=\"#Define-the-model-layers\" data-toc-modified-id=\"Define-the-model-layers-2.3\"><span class=\"toc-item-num\">2.3&nbsp;&nbsp;</span>Define the model layers</a></span></li></ul></li></ul></div>"
   ]
  },
  {
   "cell_type": "markdown",
   "metadata": {},
   "source": [
    "## Environment Set Up\n",
    "\n",
    "- To install a new Tensorflow conda enviroment in commad line, see my [blog post](https://ukidlucas.blogspot.com/2018/10/ipykernel.html)\n",
    "- conda env create -f environment_py_36_turi.yml"
   ]
  },
  {
   "cell_type": "code",
   "execution_count": 1,
   "metadata": {},
   "outputs": [],
   "source": [
    "## Uncomment for the first run\n",
    "# !pip install matplotlib\n",
    "# !pip install -U scikit-learn\n",
    "# !conda update --all -y"
   ]
  },
  {
   "cell_type": "markdown",
   "metadata": {},
   "source": [
    "## Data Preparation and Processing\n",
    "\n",
    "[the video starts at ...](https://www.youtube.com/watch?v=qFJeN9V1ZsI&feature=youtu.be&t=647)"
   ]
  },
  {
   "cell_type": "code",
   "execution_count": 2,
   "metadata": {},
   "outputs": [],
   "source": [
    "import numpy as np\n",
    "from random import randint\n",
    "from sklearn.utils import shuffle\n",
    "from sklearn.preprocessing import MinMaxScaler"
   ]
  },
  {
   "cell_type": "code",
   "execution_count": 3,
   "metadata": {},
   "outputs": [],
   "source": [
    "train_lables = []\n",
    "train_samples = []"
   ]
  },
  {
   "cell_type": "markdown",
   "metadata": {},
   "source": [
    "### Example Data (Clinical Trial)\n",
    "- An experimental drug was tested on individuals from ages 13 to 100 in a clinical trial.\n",
    "- The trail had 2100 participants. Half were under 65 years old, half were older.\n",
    "- Around 95% of patients ...\n",
    "\n",
    "[the video starts at ..](https://youtu.be/qFJeN9V1ZsI?t=750)\n"
   ]
  },
  {
   "cell_type": "code",
   "execution_count": 4,
   "metadata": {},
   "outputs": [],
   "source": [
    "for i in range (50):\n",
    "    # The ~5% of younger individuals who did experience side effects\n",
    "    random_younger = randint(13, 64)\n",
    "    train_samples.append(random_younger)\n",
    "    train_lables.append(1) # side effects\n",
    "    \n",
    "    # The ~5% of older individuals who did not experience side effects\n",
    "    random_older = randint(65, 100)\n",
    "    train_samples.append(random_older)\n",
    "    train_lables.append(0) # no side effects\n",
    "    \n",
    "for i in range(1000):\n",
    "    # The ~95% of younger individuals who did not experience side effects\n",
    "    random_younger = randint(13, 64)\n",
    "    train_samples.append(random_younger)\n",
    "    train_lables.append(0)\n",
    "    \n",
    "    # The ~95% of older individuals who did not experience side effects\n",
    "    random_older = randint(65, 100)\n",
    "    train_samples.append(random_older)\n",
    "    train_lables.append(1)\n",
    "    "
   ]
  },
  {
   "cell_type": "markdown",
   "metadata": {},
   "source": [
    "### Plot data"
   ]
  },
  {
   "cell_type": "code",
   "execution_count": 5,
   "metadata": {},
   "outputs": [
    {
     "data": {
      "image/png": "[encoded data removed]",
      "text/plain": [
       "<Figure size 432x288 with 1 Axes>"
      ]
     },
     "metadata": {
      "needs_background": "light"
     },
     "output_type": "display_data"
    }
   ],
   "source": [
    "# This plot is not in the video, but it is useful to visualize the data\n",
    "import numpy as np\n",
    "import matplotlib.pyplot as plt\n",
    "\n",
    "plt.scatter(train_samples, train_lables, alpha=0.1)\n",
    "plt.title('Side effects in relationship to age')\n",
    "plt.xlabel('age')\n",
    "plt.ylabel('side effects == 1')\n",
    "plt.show()"
   ]
  },
  {
   "cell_type": "markdown",
   "metadata": {},
   "source": [
    "### Make NumPy arrays\n",
    "\n",
    "[the video continues from 16:02](https://youtu.be/qFJeN9V1ZsI?t=962)"
   ]
  },
  {
   "cell_type": "code",
   "execution_count": 6,
   "metadata": {},
   "outputs": [],
   "source": [
    "train_lables = np.array(train_lables)\n",
    "train_samples = np.array(train_samples)"
   ]
  },
  {
   "cell_type": "markdown",
   "metadata": {},
   "source": [
    "### Shuffle the data"
   ]
  },
  {
   "cell_type": "code",
   "execution_count": 7,
   "metadata": {},
   "outputs": [],
   "source": [
    "train_lables, train_samples = shuffle(train_lables, train_samples)"
   ]
  },
  {
   "cell_type": "markdown",
   "metadata": {},
   "source": [
    "### Rescale the the data\n",
    "\n",
    "We are rescaling the age data from range of (16 to 100) to (-1 to 1)."
   ]
  },
  {
   "cell_type": "code",
   "execution_count": 8,
   "metadata": {},
   "outputs": [],
   "source": [
    "scaler = MinMaxScaler(feature_range=(0,1))\n",
    "scaled_train_samples = scaler.fit_transform(train_samples.reshape(-1,1))"
   ]
  },
  {
   "cell_type": "code",
   "execution_count": 9,
   "metadata": {},
   "outputs": [
    {
     "data": {
      "image/png": "[encoded data removed]",
      "text/plain": [
       "<Figure size 432x288 with 1 Axes>"
      ]
     },
     "metadata": {
      "needs_background": "light"
     },
     "output_type": "display_data"
    }
   ],
   "source": [
    "# This plot is not in the video, but it is useful to visualize the data\n",
    "import numpy as np\n",
    "import matplotlib.pyplot as plt\n",
    "\n",
    "plt.scatter(scaled_train_samples, train_lables, alpha=0.1)\n",
    "plt.title('Side effects in relationship to age')\n",
    "plt.xlabel('age (scaled to -1,1)')\n",
    "plt.ylabel('side effects == 1')\n",
    "plt.show()"
   ]
  },
  {
   "cell_type": "markdown",
   "metadata": {},
   "source": [
    "##  Keras TensorFlow model\n",
    "\n",
    "[the video continues from 18:39](https://youtu.be/qFJeN9V1ZsI?t=1119)"
   ]
  },
  {
   "cell_type": "markdown",
   "metadata": {},
   "source": [
    "### Set up Tensorflow and Keras"
   ]
  },
  {
   "cell_type": "markdown",
   "metadata": {},
   "source": []
  },
  {
   "cell_type": "code",
   "execution_count": 10,
   "metadata": {},
   "outputs": [],
   "source": [
    "import tensorflow as tf"
   ]
  },
  {
   "cell_type": "markdown",
   "metadata": {},
   "source": [
    "- [CategoricalCrossentropy class](https://keras.io/api/losses/probabilistic_losses/#categoricalcrossentropy-class)"
   ]
  },
  {
   "cell_type": "code",
   "execution_count": 11,
   "metadata": {},
   "outputs": [],
   "source": [
    "from tensorflow import keras\n",
    "from tensorflow.keras.models import Sequential \n",
    "from tensorflow.keras.layers import Activation, Dense \n",
    "from tensorflow.keras.optimizers import Adam\n",
    "from tensorflow.keras.metrics import categorical_crossentropy"
   ]
  },
  {
   "cell_type": "markdown",
   "metadata": {},
   "source": [
    "### Run Tensorflow on NVidia GPU\n",
    "\n",
    "If you have Nvidia GPU"
   ]
  },
  {
   "cell_type": "code",
   "execution_count": 12,
   "metadata": {},
   "outputs": [
    {
     "name": "stdout",
     "output_type": "stream",
     "text": [
      "Num GPU Available:  0\n"
     ]
    }
   ],
   "source": [
    "physical_devices = tf.config.experimental.list_physical_devices('GPU')\n",
    "num_gpu_available = len(physical_devices)\n",
    "print(\"Num GPU Available: \", num_gpu_available)"
   ]
  },
  {
   "cell_type": "code",
   "execution_count": 13,
   "metadata": {},
   "outputs": [],
   "source": [
    "if (num_gpu_available > 0):\n",
    "    tf.config.experimental.set_memory_growth(physical_devices[0], True)\n",
    "    print(\"NVidia GPU is being used\")"
   ]
  },
  {
   "cell_type": "markdown",
   "metadata": {},
   "source": [
    "### Define the model layers\n",
    "\n",
    "- input layer (not explicitly declared)\n",
    "- hidden dense (fully connected) layer with (arbitrary) 16 nodes (units)\n",
    "    - relu function returns 0 for anything below zero and value for anything above zero\n",
    "- hidden dense (fully connected) layer with (arbitrary) 32 nodes (units)\n",
    "    - relu function returns 0 for anything below zero and value for anything above zero\n",
    "- output dense (fully connected) layer with resulting (side effects, or not) 2 nodes (units)\n",
    "    - softmax function returns probablity"
   ]
  },
  {
   "cell_type": "code",
   "execution_count": 14,
   "metadata": {},
   "outputs": [],
   "source": [
    "model=Sequential([\n",
    "    Dense(units=16, input_shape=(1,), activation='relu'),\n",
    "    Dense(units=32, activation='relu'),\n",
    "    Dense(units=2, activation='softmax')\n",
    "])"
   ]
  },
  {
   "cell_type": "code",
   "execution_count": 15,
   "metadata": {},
   "outputs": [
    {
     "name": "stdout",
     "output_type": "stream",
     "text": [
      "Model: \"sequential\"\n",
      "_________________________________________________________________\n",
      "Layer (type)                 Output Shape              Param #   \n",
      "=================================================================\n",
      "dense (Dense)                (None, 16)                32        \n",
      "_________________________________________________________________\n",
      "dense_1 (Dense)              (None, 32)                544       \n",
      "_________________________________________________________________\n",
      "dense_2 (Dense)              (None, 2)                 66        \n",
      "=================================================================\n",
      "Total params: 642\n",
      "Trainable params: 642\n",
      "Non-trainable params: 0\n",
      "_________________________________________________________________\n"
     ]
    }
   ],
   "source": [
    "model.summary()"
   ]
  },
  {
   "cell_type": "markdown",
   "metadata": {},
   "source": [
    "## Training the model\n",
    "    \n",
    "    \n",
    "this section covers the video from [24:38](https://youtu.be/qFJeN9V1ZsI?t=1477) to 29:50."
   ]
  },
  {
   "cell_type": "code",
   "execution_count": 16,
   "metadata": {},
   "outputs": [],
   "source": [
    "model.compile(\n",
    "    optimizer=Adam(learning_rate=0.0001), \n",
    "    loss='sparse_categorical_crossentropy',\n",
    "    metrics=['accuracy']\n",
    ")"
   ]
  },
  {
   "cell_type": "code",
   "execution_count": 17,
   "metadata": {},
   "outputs": [
    {
     "name": "stdout",
     "output_type": "stream",
     "text": [
      "Train on 2100 samples\n",
      "Epoch 1/15\n",
      "2100/2100 - 0s - loss: 0.7112 - accuracy: 0.4071\n",
      "Epoch 2/15\n",
      "2100/2100 - 0s - loss: 0.6835 - accuracy: 0.5048\n",
      "Epoch 3/15\n",
      "2100/2100 - 0s - loss: 0.6593 - accuracy: 0.5933\n",
      "Epoch 4/15\n",
      "2100/2100 - 0s - loss: 0.6314 - accuracy: 0.6719\n",
      "Epoch 5/15\n",
      "2100/2100 - 0s - loss: 0.6042 - accuracy: 0.7152\n",
      "Epoch 6/15\n",
      "2100/2100 - 0s - loss: 0.5793 - accuracy: 0.7462\n",
      "Epoch 7/15\n",
      "2100/2100 - 0s - loss: 0.5539 - accuracy: 0.7890\n",
      "Epoch 8/15\n",
      "2100/2100 - 0s - loss: 0.5281 - accuracy: 0.8033\n",
      "Epoch 9/15\n",
      "2100/2100 - 0s - loss: 0.5016 - accuracy: 0.8324\n",
      "Epoch 10/15\n",
      "2100/2100 - 0s - loss: 0.4734 - accuracy: 0.8429\n",
      "Epoch 11/15\n",
      "2100/2100 - 0s - loss: 0.4462 - accuracy: 0.8624\n",
      "Epoch 12/15\n",
      "2100/2100 - 0s - loss: 0.4210 - accuracy: 0.8733\n",
      "Epoch 13/15\n",
      "2100/2100 - 0s - loss: 0.3981 - accuracy: 0.8881\n",
      "Epoch 14/15\n",
      "2100/2100 - 0s - loss: 0.3779 - accuracy: 0.8957\n",
      "Epoch 15/15\n",
      "2100/2100 - 0s - loss: 0.3603 - accuracy: 0.9033\n"
     ]
    }
   ],
   "source": [
    "result = model.fit(\n",
    "    x=scaled_train_samples,\n",
    "    y=train_lables,\n",
    "    batch_size=10,\n",
    "    epochs=15,               # train all data x times\n",
    "    shuffle=True,            # default True\n",
    "    verbose=2\n",
    ")"
   ]
  },
  {
   "cell_type": "markdown",
   "metadata": {},
   "source": [
    "## Validation\n",
    "\n",
    "this section covers the video from [29:50](https://youtu.be/qFJeN9V1ZsI?t=1477) to 39:28.\n",
    "\n",
    "Overfitting: learning well on the training data, but not able to \"generalize\" in order to perform on the new (validation) data."
   ]
  },
  {
   "cell_type": "code",
   "execution_count": 18,
   "metadata": {},
   "outputs": [
    {
     "name": "stdout",
     "output_type": "stream",
     "text": [
      "Train on 1890 samples, validate on 210 samples\n",
      "Epoch 1/250\n",
      "1890/1890 - 0s - loss: 0.3517 - accuracy: 0.9069 - val_loss: 0.3307 - val_accuracy: 0.9000\n",
      "Epoch 2/250\n",
      "1890/1890 - 0s - loss: 0.3474 - accuracy: 0.9069 - val_loss: 0.3262 - val_accuracy: 0.9000\n",
      "Epoch 3/250\n",
      "1890/1890 - 0s - loss: 0.3432 - accuracy: 0.9069 - val_loss: 0.3219 - val_accuracy: 0.9000\n",
      "Epoch 4/250\n",
      "1890/1890 - 0s - loss: 0.3391 - accuracy: 0.9111 - val_loss: 0.3177 - val_accuracy: 0.9095\n",
      "Epoch 5/250\n",
      "1890/1890 - 0s - loss: 0.3353 - accuracy: 0.9138 - val_loss: 0.3136 - val_accuracy: 0.9095\n",
      "Epoch 6/250\n",
      "1890/1890 - 0s - loss: 0.3314 - accuracy: 0.9138 - val_loss: 0.3095 - val_accuracy: 0.9095\n",
      "Epoch 7/250\n",
      "1890/1890 - 0s - loss: 0.3278 - accuracy: 0.9138 - val_loss: 0.3060 - val_accuracy: 0.9095\n",
      "Epoch 8/250\n",
      "1890/1890 - 0s - loss: 0.3243 - accuracy: 0.9138 - val_loss: 0.3023 - val_accuracy: 0.9095\n",
      "Epoch 9/250\n",
      "1890/1890 - 0s - loss: 0.3209 - accuracy: 0.9138 - val_loss: 0.2985 - val_accuracy: 0.9095\n",
      "Epoch 10/250\n",
      "1890/1890 - 0s - loss: 0.3177 - accuracy: 0.9153 - val_loss: 0.2951 - val_accuracy: 0.9190\n",
      "Epoch 11/250\n",
      "1890/1890 - 0s - loss: 0.3147 - accuracy: 0.9228 - val_loss: 0.2920 - val_accuracy: 0.9190\n",
      "Epoch 12/250\n",
      "1890/1890 - 0s - loss: 0.3117 - accuracy: 0.9228 - val_loss: 0.2889 - val_accuracy: 0.9190\n",
      "Epoch 13/250\n",
      "1890/1890 - 0s - loss: 0.3090 - accuracy: 0.9228 - val_loss: 0.2858 - val_accuracy: 0.9190\n",
      "Epoch 14/250\n",
      "1890/1890 - 0s - loss: 0.3063 - accuracy: 0.9228 - val_loss: 0.2830 - val_accuracy: 0.9190\n",
      "Epoch 15/250\n",
      "1890/1890 - 0s - loss: 0.3038 - accuracy: 0.9228 - val_loss: 0.2804 - val_accuracy: 0.9190\n",
      "Epoch 16/250\n",
      "1890/1890 - 0s - loss: 0.3015 - accuracy: 0.9228 - val_loss: 0.2777 - val_accuracy: 0.9190\n",
      "Epoch 17/250\n",
      "1890/1890 - 0s - loss: 0.2992 - accuracy: 0.9228 - val_loss: 0.2754 - val_accuracy: 0.9286\n",
      "Epoch 18/250\n",
      "1890/1890 - 0s - loss: 0.2970 - accuracy: 0.9228 - val_loss: 0.2729 - val_accuracy: 0.9190\n",
      "Epoch 19/250\n",
      "1890/1890 - 0s - loss: 0.2950 - accuracy: 0.9280 - val_loss: 0.2708 - val_accuracy: 0.9286\n",
      "Epoch 20/250\n",
      "1890/1890 - 0s - loss: 0.2930 - accuracy: 0.9265 - val_loss: 0.2685 - val_accuracy: 0.9286\n",
      "Epoch 21/250\n",
      "1890/1890 - 0s - loss: 0.2911 - accuracy: 0.9302 - val_loss: 0.2665 - val_accuracy: 0.9286\n",
      "Epoch 22/250\n",
      "1890/1890 - 0s - loss: 0.2895 - accuracy: 0.9302 - val_loss: 0.2647 - val_accuracy: 0.9286\n",
      "Epoch 23/250\n",
      "1890/1890 - 0s - loss: 0.2877 - accuracy: 0.9302 - val_loss: 0.2627 - val_accuracy: 0.9286\n",
      "Epoch 24/250\n",
      "1890/1890 - 0s - loss: 0.2861 - accuracy: 0.9302 - val_loss: 0.2611 - val_accuracy: 0.9286\n",
      "Epoch 25/250\n",
      "1890/1890 - 0s - loss: 0.2846 - accuracy: 0.9302 - val_loss: 0.2593 - val_accuracy: 0.9286\n",
      "Epoch 26/250\n",
      "1890/1890 - 0s - loss: 0.2830 - accuracy: 0.9302 - val_loss: 0.2578 - val_accuracy: 0.9286\n",
      "Epoch 27/250\n",
      "1890/1890 - 0s - loss: 0.2816 - accuracy: 0.9302 - val_loss: 0.2563 - val_accuracy: 0.9286\n",
      "Epoch 28/250\n",
      "1890/1890 - 0s - loss: 0.2804 - accuracy: 0.9302 - val_loss: 0.2548 - val_accuracy: 0.9286\n",
      "Epoch 29/250\n",
      "1890/1890 - 0s - loss: 0.2791 - accuracy: 0.9302 - val_loss: 0.2535 - val_accuracy: 0.9286\n",
      "Epoch 30/250\n",
      "1890/1890 - 0s - loss: 0.2779 - accuracy: 0.9302 - val_loss: 0.2521 - val_accuracy: 0.9286\n",
      "Epoch 31/250\n",
      "1890/1890 - 0s - loss: 0.2767 - accuracy: 0.9302 - val_loss: 0.2509 - val_accuracy: 0.9286\n",
      "Epoch 32/250\n",
      "1890/1890 - 0s - loss: 0.2756 - accuracy: 0.9333 - val_loss: 0.2498 - val_accuracy: 0.9286\n",
      "Epoch 33/250\n",
      "1890/1890 - 0s - loss: 0.2747 - accuracy: 0.9302 - val_loss: 0.2487 - val_accuracy: 0.9286\n",
      "Epoch 34/250\n",
      "1890/1890 - 0s - loss: 0.2736 - accuracy: 0.9302 - val_loss: 0.2476 - val_accuracy: 0.9286\n",
      "Epoch 35/250\n",
      "1890/1890 - 0s - loss: 0.2726 - accuracy: 0.9302 - val_loss: 0.2466 - val_accuracy: 0.9286\n",
      "Epoch 36/250\n",
      "1890/1890 - 0s - loss: 0.2718 - accuracy: 0.9302 - val_loss: 0.2455 - val_accuracy: 0.9286\n",
      "Epoch 37/250\n",
      "1890/1890 - 0s - loss: 0.2708 - accuracy: 0.9354 - val_loss: 0.2447 - val_accuracy: 0.9381\n",
      "Epoch 38/250\n",
      "1890/1890 - 0s - loss: 0.2701 - accuracy: 0.9328 - val_loss: 0.2437 - val_accuracy: 0.9286\n",
      "Epoch 39/250\n",
      "1890/1890 - 0s - loss: 0.2692 - accuracy: 0.9339 - val_loss: 0.2430 - val_accuracy: 0.9381\n",
      "Epoch 40/250\n",
      "1890/1890 - 0s - loss: 0.2685 - accuracy: 0.9365 - val_loss: 0.2421 - val_accuracy: 0.9381\n",
      "Epoch 41/250\n",
      "1890/1890 - 0s - loss: 0.2678 - accuracy: 0.9333 - val_loss: 0.2413 - val_accuracy: 0.9381\n",
      "Epoch 42/250\n",
      "1890/1890 - 0s - loss: 0.2671 - accuracy: 0.9365 - val_loss: 0.2405 - val_accuracy: 0.9381\n",
      "Epoch 43/250\n",
      "1890/1890 - 0s - loss: 0.2664 - accuracy: 0.9365 - val_loss: 0.2397 - val_accuracy: 0.9381\n",
      "Epoch 44/250\n",
      "1890/1890 - 0s - loss: 0.2659 - accuracy: 0.9365 - val_loss: 0.2391 - val_accuracy: 0.9381\n",
      "Epoch 45/250\n",
      "1890/1890 - 0s - loss: 0.2652 - accuracy: 0.9365 - val_loss: 0.2383 - val_accuracy: 0.9381\n",
      "Epoch 46/250\n",
      "1890/1890 - 0s - loss: 0.2647 - accuracy: 0.9365 - val_loss: 0.2377 - val_accuracy: 0.9381\n",
      "Epoch 47/250\n",
      "1890/1890 - 0s - loss: 0.2641 - accuracy: 0.9365 - val_loss: 0.2370 - val_accuracy: 0.9381\n",
      "Epoch 48/250\n",
      "1890/1890 - 0s - loss: 0.2637 - accuracy: 0.9365 - val_loss: 0.2365 - val_accuracy: 0.9381\n",
      "Epoch 49/250\n",
      "1890/1890 - 0s - loss: 0.2631 - accuracy: 0.9365 - val_loss: 0.2359 - val_accuracy: 0.9381\n",
      "Epoch 50/250\n",
      "1890/1890 - 0s - loss: 0.2626 - accuracy: 0.9365 - val_loss: 0.2352 - val_accuracy: 0.9381\n",
      "Epoch 51/250\n",
      "1890/1890 - 0s - loss: 0.2622 - accuracy: 0.9365 - val_loss: 0.2347 - val_accuracy: 0.9381\n",
      "Epoch 52/250\n",
      "1890/1890 - 0s - loss: 0.2617 - accuracy: 0.9365 - val_loss: 0.2341 - val_accuracy: 0.9381\n",
      "Epoch 53/250\n",
      "1890/1890 - 0s - loss: 0.2613 - accuracy: 0.9365 - val_loss: 0.2337 - val_accuracy: 0.9381\n",
      "Epoch 54/250\n",
      "1890/1890 - 0s - loss: 0.2609 - accuracy: 0.9365 - val_loss: 0.2333 - val_accuracy: 0.9381\n",
      "Epoch 55/250\n",
      "1890/1890 - 0s - loss: 0.2605 - accuracy: 0.9365 - val_loss: 0.2327 - val_accuracy: 0.9381\n",
      "Epoch 56/250\n",
      "1890/1890 - 0s - loss: 0.2602 - accuracy: 0.9365 - val_loss: 0.2325 - val_accuracy: 0.9381\n",
      "Epoch 57/250\n",
      "1890/1890 - 0s - loss: 0.2598 - accuracy: 0.9365 - val_loss: 0.2319 - val_accuracy: 0.9381\n",
      "Epoch 58/250\n",
      "1890/1890 - 0s - loss: 0.2594 - accuracy: 0.9365 - val_loss: 0.2315 - val_accuracy: 0.9381\n",
      "Epoch 59/250\n",
      "1890/1890 - 0s - loss: 0.2591 - accuracy: 0.9365 - val_loss: 0.2312 - val_accuracy: 0.9381\n",
      "Epoch 60/250\n",
      "1890/1890 - 0s - loss: 0.2588 - accuracy: 0.9365 - val_loss: 0.2307 - val_accuracy: 0.9381\n",
      "Epoch 61/250\n",
      "1890/1890 - 0s - loss: 0.2584 - accuracy: 0.9365 - val_loss: 0.2306 - val_accuracy: 0.9381\n",
      "Epoch 62/250\n",
      "1890/1890 - 0s - loss: 0.2582 - accuracy: 0.9365 - val_loss: 0.2302 - val_accuracy: 0.9381\n",
      "Epoch 63/250\n",
      "1890/1890 - 0s - loss: 0.2578 - accuracy: 0.9365 - val_loss: 0.2298 - val_accuracy: 0.9381\n",
      "Epoch 64/250\n",
      "1890/1890 - 0s - loss: 0.2575 - accuracy: 0.9413 - val_loss: 0.2296 - val_accuracy: 0.9381\n",
      "Epoch 65/250\n",
      "1890/1890 - 0s - loss: 0.2572 - accuracy: 0.9365 - val_loss: 0.2292 - val_accuracy: 0.9381\n",
      "Epoch 66/250\n",
      "1890/1890 - 0s - loss: 0.2570 - accuracy: 0.9365 - val_loss: 0.2290 - val_accuracy: 0.9381\n",
      "Epoch 67/250\n",
      "1890/1890 - 0s - loss: 0.2568 - accuracy: 0.9365 - val_loss: 0.2287 - val_accuracy: 0.9381\n",
      "Epoch 68/250\n",
      "1890/1890 - 0s - loss: 0.2564 - accuracy: 0.9376 - val_loss: 0.2285 - val_accuracy: 0.9381\n",
      "Epoch 69/250\n",
      "1890/1890 - 0s - loss: 0.2562 - accuracy: 0.9365 - val_loss: 0.2282 - val_accuracy: 0.9381\n",
      "Epoch 70/250\n",
      "1890/1890 - 0s - loss: 0.2560 - accuracy: 0.9365 - val_loss: 0.2279 - val_accuracy: 0.9381\n",
      "Epoch 71/250\n",
      "1890/1890 - 0s - loss: 0.2557 - accuracy: 0.9365 - val_loss: 0.2278 - val_accuracy: 0.9381\n",
      "Epoch 72/250\n",
      "1890/1890 - 0s - loss: 0.2555 - accuracy: 0.9365 - val_loss: 0.2275 - val_accuracy: 0.9381\n",
      "Epoch 73/250\n",
      "1890/1890 - 0s - loss: 0.2553 - accuracy: 0.9370 - val_loss: 0.2273 - val_accuracy: 0.9381\n",
      "Epoch 74/250\n",
      "1890/1890 - 0s - loss: 0.2552 - accuracy: 0.9402 - val_loss: 0.2271 - val_accuracy: 0.9381\n",
      "Epoch 75/250\n",
      "1890/1890 - 0s - loss: 0.2549 - accuracy: 0.9365 - val_loss: 0.2270 - val_accuracy: 0.9381\n",
      "Epoch 76/250\n",
      "1890/1890 - 0s - loss: 0.2547 - accuracy: 0.9392 - val_loss: 0.2268 - val_accuracy: 0.9381\n",
      "Epoch 77/250\n",
      "1890/1890 - 0s - loss: 0.2546 - accuracy: 0.9381 - val_loss: 0.2267 - val_accuracy: 0.9524\n",
      "Epoch 78/250\n",
      "1890/1890 - 0s - loss: 0.2544 - accuracy: 0.9376 - val_loss: 0.2263 - val_accuracy: 0.9381\n",
      "Epoch 79/250\n",
      "1890/1890 - 0s - loss: 0.2541 - accuracy: 0.9423 - val_loss: 0.2262 - val_accuracy: 0.9381\n"
     ]
    },
    {
     "name": "stdout",
     "output_type": "stream",
     "text": [
      "Epoch 80/250\n",
      "1890/1890 - 0s - loss: 0.2540 - accuracy: 0.9365 - val_loss: 0.2260 - val_accuracy: 0.9381\n",
      "Epoch 81/250\n",
      "1890/1890 - 0s - loss: 0.2538 - accuracy: 0.9429 - val_loss: 0.2260 - val_accuracy: 0.9524\n",
      "Epoch 82/250\n",
      "1890/1890 - 0s - loss: 0.2536 - accuracy: 0.9423 - val_loss: 0.2258 - val_accuracy: 0.9524\n",
      "Epoch 83/250\n",
      "1890/1890 - 0s - loss: 0.2534 - accuracy: 0.9434 - val_loss: 0.2256 - val_accuracy: 0.9524\n",
      "Epoch 84/250\n",
      "1890/1890 - 0s - loss: 0.2533 - accuracy: 0.9434 - val_loss: 0.2255 - val_accuracy: 0.9524\n",
      "Epoch 85/250\n",
      "1890/1890 - 0s - loss: 0.2531 - accuracy: 0.9434 - val_loss: 0.2253 - val_accuracy: 0.9524\n",
      "Epoch 86/250\n",
      "1890/1890 - 0s - loss: 0.2531 - accuracy: 0.9402 - val_loss: 0.2252 - val_accuracy: 0.9524\n",
      "Epoch 87/250\n",
      "1890/1890 - 0s - loss: 0.2529 - accuracy: 0.9434 - val_loss: 0.2251 - val_accuracy: 0.9524\n",
      "Epoch 88/250\n",
      "1890/1890 - 0s - loss: 0.2527 - accuracy: 0.9418 - val_loss: 0.2250 - val_accuracy: 0.9524\n",
      "Epoch 89/250\n",
      "1890/1890 - 0s - loss: 0.2526 - accuracy: 0.9423 - val_loss: 0.2249 - val_accuracy: 0.9524\n",
      "Epoch 90/250\n",
      "1890/1890 - 0s - loss: 0.2525 - accuracy: 0.9434 - val_loss: 0.2247 - val_accuracy: 0.9524\n",
      "Epoch 91/250\n",
      "1890/1890 - 0s - loss: 0.2524 - accuracy: 0.9392 - val_loss: 0.2246 - val_accuracy: 0.9524\n",
      "Epoch 92/250\n",
      "1890/1890 - 0s - loss: 0.2521 - accuracy: 0.9434 - val_loss: 0.2244 - val_accuracy: 0.9524\n",
      "Epoch 93/250\n",
      "1890/1890 - 0s - loss: 0.2520 - accuracy: 0.9434 - val_loss: 0.2243 - val_accuracy: 0.9524\n",
      "Epoch 94/250\n",
      "1890/1890 - 0s - loss: 0.2519 - accuracy: 0.9434 - val_loss: 0.2242 - val_accuracy: 0.9524\n",
      "Epoch 95/250\n",
      "1890/1890 - 0s - loss: 0.2519 - accuracy: 0.9418 - val_loss: 0.2241 - val_accuracy: 0.9524\n",
      "Epoch 96/250\n",
      "1890/1890 - 0s - loss: 0.2517 - accuracy: 0.9434 - val_loss: 0.2241 - val_accuracy: 0.9524\n",
      "Epoch 97/250\n",
      "1890/1890 - 0s - loss: 0.2515 - accuracy: 0.9418 - val_loss: 0.2238 - val_accuracy: 0.9524\n",
      "Epoch 98/250\n",
      "1890/1890 - 0s - loss: 0.2514 - accuracy: 0.9434 - val_loss: 0.2238 - val_accuracy: 0.9524\n",
      "Epoch 99/250\n",
      "1890/1890 - 0s - loss: 0.2513 - accuracy: 0.9434 - val_loss: 0.2237 - val_accuracy: 0.9524\n",
      "Epoch 100/250\n",
      "1890/1890 - 0s - loss: 0.2512 - accuracy: 0.9434 - val_loss: 0.2235 - val_accuracy: 0.9524\n",
      "Epoch 101/250\n",
      "1890/1890 - 0s - loss: 0.2511 - accuracy: 0.9386 - val_loss: 0.2235 - val_accuracy: 0.9524\n",
      "Epoch 102/250\n",
      "1890/1890 - 0s - loss: 0.2509 - accuracy: 0.9434 - val_loss: 0.2234 - val_accuracy: 0.9524\n",
      "Epoch 103/250\n",
      "1890/1890 - 0s - loss: 0.2508 - accuracy: 0.9423 - val_loss: 0.2232 - val_accuracy: 0.9524\n",
      "Epoch 104/250\n",
      "1890/1890 - 0s - loss: 0.2507 - accuracy: 0.9434 - val_loss: 0.2233 - val_accuracy: 0.9524\n",
      "Epoch 105/250\n",
      "1890/1890 - 0s - loss: 0.2506 - accuracy: 0.9434 - val_loss: 0.2231 - val_accuracy: 0.9524\n",
      "Epoch 106/250\n",
      "1890/1890 - 0s - loss: 0.2504 - accuracy: 0.9434 - val_loss: 0.2229 - val_accuracy: 0.9524\n",
      "Epoch 107/250\n",
      "1890/1890 - 0s - loss: 0.2503 - accuracy: 0.9434 - val_loss: 0.2228 - val_accuracy: 0.9524\n",
      "Epoch 108/250\n",
      "1890/1890 - 0s - loss: 0.2503 - accuracy: 0.9434 - val_loss: 0.2226 - val_accuracy: 0.9524\n",
      "Epoch 109/250\n",
      "1890/1890 - 0s - loss: 0.2501 - accuracy: 0.9434 - val_loss: 0.2227 - val_accuracy: 0.9524\n",
      "Epoch 110/250\n",
      "1890/1890 - 0s - loss: 0.2500 - accuracy: 0.9434 - val_loss: 0.2226 - val_accuracy: 0.9524\n",
      "Epoch 111/250\n",
      "1890/1890 - 0s - loss: 0.2498 - accuracy: 0.9434 - val_loss: 0.2223 - val_accuracy: 0.9524\n",
      "Epoch 112/250\n",
      "1890/1890 - 0s - loss: 0.2498 - accuracy: 0.9402 - val_loss: 0.2223 - val_accuracy: 0.9524\n",
      "Epoch 113/250\n",
      "1890/1890 - 0s - loss: 0.2496 - accuracy: 0.9434 - val_loss: 0.2224 - val_accuracy: 0.9524\n",
      "Epoch 114/250\n",
      "1890/1890 - 0s - loss: 0.2495 - accuracy: 0.9434 - val_loss: 0.2221 - val_accuracy: 0.9524\n",
      "Epoch 115/250\n",
      "1890/1890 - 0s - loss: 0.2494 - accuracy: 0.9407 - val_loss: 0.2220 - val_accuracy: 0.9524\n",
      "Epoch 116/250\n",
      "1890/1890 - 0s - loss: 0.2493 - accuracy: 0.9434 - val_loss: 0.2221 - val_accuracy: 0.9524\n",
      "Epoch 117/250\n",
      "1890/1890 - 0s - loss: 0.2493 - accuracy: 0.9413 - val_loss: 0.2220 - val_accuracy: 0.9524\n",
      "Epoch 118/250\n",
      "1890/1890 - 0s - loss: 0.2490 - accuracy: 0.9434 - val_loss: 0.2220 - val_accuracy: 0.9524\n",
      "Epoch 119/250\n",
      "1890/1890 - 0s - loss: 0.2490 - accuracy: 0.9434 - val_loss: 0.2218 - val_accuracy: 0.9524\n",
      "Epoch 120/250\n",
      "1890/1890 - 0s - loss: 0.2489 - accuracy: 0.9434 - val_loss: 0.2218 - val_accuracy: 0.9524\n",
      "Epoch 121/250\n",
      "1890/1890 - 0s - loss: 0.2488 - accuracy: 0.9434 - val_loss: 0.2215 - val_accuracy: 0.9524\n",
      "Epoch 122/250\n",
      "1890/1890 - 0s - loss: 0.2487 - accuracy: 0.9434 - val_loss: 0.2215 - val_accuracy: 0.9524\n",
      "Epoch 123/250\n",
      "1890/1890 - 0s - loss: 0.2486 - accuracy: 0.9434 - val_loss: 0.2217 - val_accuracy: 0.9524\n",
      "Epoch 124/250\n",
      "1890/1890 - 0s - loss: 0.2484 - accuracy: 0.9434 - val_loss: 0.2215 - val_accuracy: 0.9524\n",
      "Epoch 125/250\n",
      "1890/1890 - 0s - loss: 0.2484 - accuracy: 0.9434 - val_loss: 0.2214 - val_accuracy: 0.9524\n",
      "Epoch 126/250\n",
      "1890/1890 - 0s - loss: 0.2485 - accuracy: 0.9423 - val_loss: 0.2213 - val_accuracy: 0.9524\n",
      "Epoch 127/250\n",
      "1890/1890 - 0s - loss: 0.2483 - accuracy: 0.9434 - val_loss: 0.2211 - val_accuracy: 0.9524\n",
      "Epoch 128/250\n",
      "1890/1890 - 0s - loss: 0.2481 - accuracy: 0.9434 - val_loss: 0.2211 - val_accuracy: 0.9524\n",
      "Epoch 129/250\n",
      "1890/1890 - 0s - loss: 0.2480 - accuracy: 0.9434 - val_loss: 0.2211 - val_accuracy: 0.9524\n",
      "Epoch 130/250\n",
      "1890/1890 - 0s - loss: 0.2479 - accuracy: 0.9434 - val_loss: 0.2210 - val_accuracy: 0.9524\n",
      "Epoch 131/250\n",
      "1890/1890 - 0s - loss: 0.2478 - accuracy: 0.9434 - val_loss: 0.2209 - val_accuracy: 0.9524\n",
      "Epoch 132/250\n",
      "1890/1890 - 0s - loss: 0.2477 - accuracy: 0.9434 - val_loss: 0.2209 - val_accuracy: 0.9524\n",
      "Epoch 133/250\n",
      "1890/1890 - 0s - loss: 0.2476 - accuracy: 0.9434 - val_loss: 0.2209 - val_accuracy: 0.9524\n",
      "Epoch 134/250\n",
      "1890/1890 - 0s - loss: 0.2475 - accuracy: 0.9434 - val_loss: 0.2208 - val_accuracy: 0.9524\n",
      "Epoch 135/250\n",
      "1890/1890 - 0s - loss: 0.2474 - accuracy: 0.9434 - val_loss: 0.2206 - val_accuracy: 0.9524\n",
      "Epoch 136/250\n",
      "1890/1890 - 0s - loss: 0.2474 - accuracy: 0.9434 - val_loss: 0.2206 - val_accuracy: 0.9524\n",
      "Epoch 137/250\n",
      "1890/1890 - 0s - loss: 0.2474 - accuracy: 0.9434 - val_loss: 0.2205 - val_accuracy: 0.9524\n",
      "Epoch 138/250\n",
      "1890/1890 - 0s - loss: 0.2471 - accuracy: 0.9434 - val_loss: 0.2206 - val_accuracy: 0.9524\n",
      "Epoch 139/250\n",
      "1890/1890 - 0s - loss: 0.2470 - accuracy: 0.9434 - val_loss: 0.2204 - val_accuracy: 0.9524\n",
      "Epoch 140/250\n",
      "1890/1890 - 0s - loss: 0.2470 - accuracy: 0.9434 - val_loss: 0.2202 - val_accuracy: 0.9524\n",
      "Epoch 141/250\n",
      "1890/1890 - 0s - loss: 0.2468 - accuracy: 0.9434 - val_loss: 0.2203 - val_accuracy: 0.9524\n",
      "Epoch 142/250\n",
      "1890/1890 - 0s - loss: 0.2467 - accuracy: 0.9434 - val_loss: 0.2201 - val_accuracy: 0.9524\n",
      "Epoch 143/250\n",
      "1890/1890 - 0s - loss: 0.2466 - accuracy: 0.9434 - val_loss: 0.2200 - val_accuracy: 0.9524\n",
      "Epoch 144/250\n",
      "1890/1890 - 0s - loss: 0.2466 - accuracy: 0.9434 - val_loss: 0.2200 - val_accuracy: 0.9524\n",
      "Epoch 145/250\n",
      "1890/1890 - 0s - loss: 0.2465 - accuracy: 0.9434 - val_loss: 0.2200 - val_accuracy: 0.9524\n",
      "Epoch 146/250\n",
      "1890/1890 - 0s - loss: 0.2464 - accuracy: 0.9434 - val_loss: 0.2199 - val_accuracy: 0.9524\n",
      "Epoch 147/250\n",
      "1890/1890 - 0s - loss: 0.2463 - accuracy: 0.9434 - val_loss: 0.2198 - val_accuracy: 0.9524\n",
      "Epoch 148/250\n",
      "1890/1890 - 0s - loss: 0.2461 - accuracy: 0.9434 - val_loss: 0.2197 - val_accuracy: 0.9524\n",
      "Epoch 149/250\n",
      "1890/1890 - 0s - loss: 0.2460 - accuracy: 0.9434 - val_loss: 0.2196 - val_accuracy: 0.9524\n",
      "Epoch 150/250\n",
      "1890/1890 - 0s - loss: 0.2459 - accuracy: 0.9434 - val_loss: 0.2194 - val_accuracy: 0.9524\n",
      "Epoch 151/250\n",
      "1890/1890 - 0s - loss: 0.2458 - accuracy: 0.9434 - val_loss: 0.2195 - val_accuracy: 0.9524\n",
      "Epoch 152/250\n",
      "1890/1890 - 0s - loss: 0.2456 - accuracy: 0.9434 - val_loss: 0.2194 - val_accuracy: 0.9524\n",
      "Epoch 153/250\n",
      "1890/1890 - 0s - loss: 0.2455 - accuracy: 0.9434 - val_loss: 0.2194 - val_accuracy: 0.9524\n",
      "Epoch 154/250\n",
      "1890/1890 - 0s - loss: 0.2454 - accuracy: 0.9434 - val_loss: 0.2192 - val_accuracy: 0.9524\n",
      "Epoch 155/250\n",
      "1890/1890 - 0s - loss: 0.2453 - accuracy: 0.9434 - val_loss: 0.2192 - val_accuracy: 0.9524\n",
      "Epoch 156/250\n",
      "1890/1890 - 0s - loss: 0.2452 - accuracy: 0.9434 - val_loss: 0.2191 - val_accuracy: 0.9524\n",
      "Epoch 157/250\n",
      "1890/1890 - 0s - loss: 0.2450 - accuracy: 0.9434 - val_loss: 0.2190 - val_accuracy: 0.9524\n",
      "Epoch 158/250\n",
      "1890/1890 - 0s - loss: 0.2449 - accuracy: 0.9434 - val_loss: 0.2189 - val_accuracy: 0.9524\n"
     ]
    },
    {
     "name": "stdout",
     "output_type": "stream",
     "text": [
      "Epoch 159/250\n",
      "1890/1890 - 0s - loss: 0.2449 - accuracy: 0.9434 - val_loss: 0.2191 - val_accuracy: 0.9524\n",
      "Epoch 160/250\n",
      "1890/1890 - 0s - loss: 0.2447 - accuracy: 0.9434 - val_loss: 0.2188 - val_accuracy: 0.9524\n",
      "Epoch 161/250\n",
      "1890/1890 - 0s - loss: 0.2446 - accuracy: 0.9434 - val_loss: 0.2187 - val_accuracy: 0.9524\n",
      "Epoch 162/250\n",
      "1890/1890 - 0s - loss: 0.2445 - accuracy: 0.9434 - val_loss: 0.2187 - val_accuracy: 0.9524\n",
      "Epoch 163/250\n",
      "1890/1890 - 0s - loss: 0.2444 - accuracy: 0.9434 - val_loss: 0.2186 - val_accuracy: 0.9524\n",
      "Epoch 164/250\n",
      "1890/1890 - 0s - loss: 0.2443 - accuracy: 0.9434 - val_loss: 0.2185 - val_accuracy: 0.9524\n",
      "Epoch 165/250\n",
      "1890/1890 - 0s - loss: 0.2443 - accuracy: 0.9434 - val_loss: 0.2184 - val_accuracy: 0.9524\n",
      "Epoch 166/250\n",
      "1890/1890 - 0s - loss: 0.2444 - accuracy: 0.9434 - val_loss: 0.2183 - val_accuracy: 0.9524\n",
      "Epoch 167/250\n",
      "1890/1890 - 0s - loss: 0.2442 - accuracy: 0.9434 - val_loss: 0.2185 - val_accuracy: 0.9524\n",
      "Epoch 168/250\n",
      "1890/1890 - 0s - loss: 0.2440 - accuracy: 0.9434 - val_loss: 0.2183 - val_accuracy: 0.9524\n",
      "Epoch 169/250\n",
      "1890/1890 - 0s - loss: 0.2439 - accuracy: 0.9434 - val_loss: 0.2182 - val_accuracy: 0.9524\n",
      "Epoch 170/250\n",
      "1890/1890 - 0s - loss: 0.2439 - accuracy: 0.9434 - val_loss: 0.2182 - val_accuracy: 0.9524\n",
      "Epoch 171/250\n",
      "1890/1890 - 0s - loss: 0.2438 - accuracy: 0.9434 - val_loss: 0.2181 - val_accuracy: 0.9524\n",
      "Epoch 172/250\n",
      "1890/1890 - 0s - loss: 0.2437 - accuracy: 0.9434 - val_loss: 0.2182 - val_accuracy: 0.9524\n",
      "Epoch 173/250\n",
      "1890/1890 - 0s - loss: 0.2437 - accuracy: 0.9434 - val_loss: 0.2180 - val_accuracy: 0.9524\n",
      "Epoch 174/250\n",
      "1890/1890 - 0s - loss: 0.2436 - accuracy: 0.9434 - val_loss: 0.2181 - val_accuracy: 0.9524\n",
      "Epoch 175/250\n",
      "1890/1890 - 0s - loss: 0.2435 - accuracy: 0.9434 - val_loss: 0.2180 - val_accuracy: 0.9524\n",
      "Epoch 176/250\n",
      "1890/1890 - 0s - loss: 0.2434 - accuracy: 0.9434 - val_loss: 0.2180 - val_accuracy: 0.9524\n",
      "Epoch 177/250\n",
      "1890/1890 - 0s - loss: 0.2434 - accuracy: 0.9434 - val_loss: 0.2178 - val_accuracy: 0.9524\n",
      "Epoch 178/250\n",
      "1890/1890 - 0s - loss: 0.2433 - accuracy: 0.9434 - val_loss: 0.2177 - val_accuracy: 0.9524\n",
      "Epoch 179/250\n",
      "1890/1890 - 0s - loss: 0.2432 - accuracy: 0.9434 - val_loss: 0.2177 - val_accuracy: 0.9524\n",
      "Epoch 180/250\n",
      "1890/1890 - 0s - loss: 0.2432 - accuracy: 0.9434 - val_loss: 0.2175 - val_accuracy: 0.9524\n",
      "Epoch 181/250\n",
      "1890/1890 - 0s - loss: 0.2431 - accuracy: 0.9434 - val_loss: 0.2176 - val_accuracy: 0.9524\n",
      "Epoch 182/250\n",
      "1890/1890 - 0s - loss: 0.2431 - accuracy: 0.9434 - val_loss: 0.2175 - val_accuracy: 0.9524\n",
      "Epoch 183/250\n",
      "1890/1890 - 0s - loss: 0.2430 - accuracy: 0.9434 - val_loss: 0.2174 - val_accuracy: 0.9524\n",
      "Epoch 184/250\n",
      "1890/1890 - 0s - loss: 0.2430 - accuracy: 0.9434 - val_loss: 0.2174 - val_accuracy: 0.9524\n",
      "Epoch 185/250\n",
      "1890/1890 - 0s - loss: 0.2429 - accuracy: 0.9434 - val_loss: 0.2174 - val_accuracy: 0.9524\n",
      "Epoch 186/250\n",
      "1890/1890 - 0s - loss: 0.2428 - accuracy: 0.9434 - val_loss: 0.2173 - val_accuracy: 0.9524\n",
      "Epoch 187/250\n",
      "1890/1890 - 0s - loss: 0.2427 - accuracy: 0.9434 - val_loss: 0.2174 - val_accuracy: 0.9524\n",
      "Epoch 188/250\n",
      "1890/1890 - 0s - loss: 0.2429 - accuracy: 0.9434 - val_loss: 0.2172 - val_accuracy: 0.9524\n",
      "Epoch 189/250\n",
      "1890/1890 - 0s - loss: 0.2426 - accuracy: 0.9434 - val_loss: 0.2174 - val_accuracy: 0.9524\n",
      "Epoch 190/250\n",
      "1890/1890 - 0s - loss: 0.2426 - accuracy: 0.9434 - val_loss: 0.2172 - val_accuracy: 0.9524\n",
      "Epoch 191/250\n",
      "1890/1890 - 0s - loss: 0.2426 - accuracy: 0.9434 - val_loss: 0.2171 - val_accuracy: 0.9524\n",
      "Epoch 192/250\n",
      "1890/1890 - 0s - loss: 0.2426 - accuracy: 0.9434 - val_loss: 0.2171 - val_accuracy: 0.9524\n",
      "Epoch 193/250\n",
      "1890/1890 - 0s - loss: 0.2424 - accuracy: 0.9434 - val_loss: 0.2170 - val_accuracy: 0.9524\n",
      "Epoch 194/250\n",
      "1890/1890 - 0s - loss: 0.2424 - accuracy: 0.9434 - val_loss: 0.2170 - val_accuracy: 0.9524\n",
      "Epoch 195/250\n",
      "1890/1890 - 0s - loss: 0.2423 - accuracy: 0.9434 - val_loss: 0.2170 - val_accuracy: 0.9524\n",
      "Epoch 196/250\n",
      "1890/1890 - 0s - loss: 0.2422 - accuracy: 0.9434 - val_loss: 0.2170 - val_accuracy: 0.9524\n",
      "Epoch 197/250\n",
      "1890/1890 - 0s - loss: 0.2421 - accuracy: 0.9434 - val_loss: 0.2169 - val_accuracy: 0.9524\n",
      "Epoch 198/250\n",
      "1890/1890 - 0s - loss: 0.2421 - accuracy: 0.9434 - val_loss: 0.2169 - val_accuracy: 0.9524\n",
      "Epoch 199/250\n",
      "1890/1890 - 0s - loss: 0.2420 - accuracy: 0.9434 - val_loss: 0.2169 - val_accuracy: 0.9524\n",
      "Epoch 200/250\n",
      "1890/1890 - 0s - loss: 0.2420 - accuracy: 0.9434 - val_loss: 0.2168 - val_accuracy: 0.9524\n",
      "Epoch 201/250\n",
      "1890/1890 - 0s - loss: 0.2419 - accuracy: 0.9434 - val_loss: 0.2168 - val_accuracy: 0.9524\n",
      "Epoch 202/250\n",
      "1890/1890 - 0s - loss: 0.2419 - accuracy: 0.9434 - val_loss: 0.2167 - val_accuracy: 0.9524\n",
      "Epoch 203/250\n",
      "1890/1890 - 0s - loss: 0.2418 - accuracy: 0.9434 - val_loss: 0.2166 - val_accuracy: 0.9524\n",
      "Epoch 204/250\n",
      "1890/1890 - 0s - loss: 0.2418 - accuracy: 0.9434 - val_loss: 0.2168 - val_accuracy: 0.9524\n",
      "Epoch 205/250\n",
      "1890/1890 - 0s - loss: 0.2419 - accuracy: 0.9434 - val_loss: 0.2164 - val_accuracy: 0.9524\n",
      "Epoch 206/250\n",
      "1890/1890 - 0s - loss: 0.2416 - accuracy: 0.9434 - val_loss: 0.2166 - val_accuracy: 0.9524\n",
      "Epoch 207/250\n",
      "1890/1890 - 0s - loss: 0.2416 - accuracy: 0.9434 - val_loss: 0.2166 - val_accuracy: 0.9524\n",
      "Epoch 208/250\n",
      "1890/1890 - 0s - loss: 0.2415 - accuracy: 0.9434 - val_loss: 0.2167 - val_accuracy: 0.9524\n",
      "Epoch 209/250\n",
      "1890/1890 - 0s - loss: 0.2415 - accuracy: 0.9434 - val_loss: 0.2164 - val_accuracy: 0.9524\n",
      "Epoch 210/250\n",
      "1890/1890 - 0s - loss: 0.2414 - accuracy: 0.9434 - val_loss: 0.2166 - val_accuracy: 0.9524\n",
      "Epoch 211/250\n",
      "1890/1890 - 0s - loss: 0.2413 - accuracy: 0.9434 - val_loss: 0.2165 - val_accuracy: 0.9524\n",
      "Epoch 212/250\n",
      "1890/1890 - 0s - loss: 0.2413 - accuracy: 0.9434 - val_loss: 0.2165 - val_accuracy: 0.9524\n",
      "Epoch 213/250\n",
      "1890/1890 - 0s - loss: 0.2412 - accuracy: 0.9434 - val_loss: 0.2164 - val_accuracy: 0.9524\n",
      "Epoch 214/250\n",
      "1890/1890 - 0s - loss: 0.2411 - accuracy: 0.9434 - val_loss: 0.2163 - val_accuracy: 0.9524\n",
      "Epoch 215/250\n",
      "1890/1890 - 0s - loss: 0.2411 - accuracy: 0.9434 - val_loss: 0.2163 - val_accuracy: 0.9524\n",
      "Epoch 216/250\n",
      "1890/1890 - 0s - loss: 0.2410 - accuracy: 0.9434 - val_loss: 0.2162 - val_accuracy: 0.9524\n",
      "Epoch 217/250\n",
      "1890/1890 - 0s - loss: 0.2409 - accuracy: 0.9434 - val_loss: 0.2163 - val_accuracy: 0.9524\n",
      "Epoch 218/250\n",
      "1890/1890 - 0s - loss: 0.2410 - accuracy: 0.9434 - val_loss: 0.2162 - val_accuracy: 0.9524\n",
      "Epoch 219/250\n",
      "1890/1890 - 0s - loss: 0.2408 - accuracy: 0.9434 - val_loss: 0.2163 - val_accuracy: 0.9524\n",
      "Epoch 220/250\n",
      "1890/1890 - 0s - loss: 0.2407 - accuracy: 0.9434 - val_loss: 0.2162 - val_accuracy: 0.9524\n",
      "Epoch 221/250\n",
      "1890/1890 - 0s - loss: 0.2407 - accuracy: 0.9434 - val_loss: 0.2160 - val_accuracy: 0.9524\n",
      "Epoch 222/250\n",
      "1890/1890 - 0s - loss: 0.2406 - accuracy: 0.9434 - val_loss: 0.2162 - val_accuracy: 0.9524\n",
      "Epoch 223/250\n",
      "1890/1890 - 0s - loss: 0.2406 - accuracy: 0.9434 - val_loss: 0.2161 - val_accuracy: 0.9524\n",
      "Epoch 224/250\n",
      "1890/1890 - 0s - loss: 0.2405 - accuracy: 0.9434 - val_loss: 0.2160 - val_accuracy: 0.9524\n",
      "Epoch 225/250\n",
      "1890/1890 - 0s - loss: 0.2405 - accuracy: 0.9434 - val_loss: 0.2160 - val_accuracy: 0.9524\n",
      "Epoch 226/250\n",
      "1890/1890 - 0s - loss: 0.2404 - accuracy: 0.9434 - val_loss: 0.2160 - val_accuracy: 0.9524\n",
      "Epoch 227/250\n",
      "1890/1890 - 0s - loss: 0.2403 - accuracy: 0.9434 - val_loss: 0.2159 - val_accuracy: 0.9524\n",
      "Epoch 228/250\n",
      "1890/1890 - 0s - loss: 0.2403 - accuracy: 0.9434 - val_loss: 0.2159 - val_accuracy: 0.9524\n",
      "Epoch 229/250\n",
      "1890/1890 - 0s - loss: 0.2402 - accuracy: 0.9434 - val_loss: 0.2158 - val_accuracy: 0.9524\n",
      "Epoch 230/250\n",
      "1890/1890 - 0s - loss: 0.2401 - accuracy: 0.9434 - val_loss: 0.2158 - val_accuracy: 0.9524\n",
      "Epoch 231/250\n",
      "1890/1890 - 0s - loss: 0.2401 - accuracy: 0.9434 - val_loss: 0.2157 - val_accuracy: 0.9524\n",
      "Epoch 232/250\n",
      "1890/1890 - 0s - loss: 0.2401 - accuracy: 0.9434 - val_loss: 0.2158 - val_accuracy: 0.9524\n",
      "Epoch 233/250\n",
      "1890/1890 - 0s - loss: 0.2400 - accuracy: 0.9434 - val_loss: 0.2157 - val_accuracy: 0.9524\n",
      "Epoch 234/250\n",
      "1890/1890 - 0s - loss: 0.2399 - accuracy: 0.9434 - val_loss: 0.2158 - val_accuracy: 0.9524\n",
      "Epoch 235/250\n",
      "1890/1890 - 0s - loss: 0.2398 - accuracy: 0.9434 - val_loss: 0.2156 - val_accuracy: 0.9524\n",
      "Epoch 236/250\n",
      "1890/1890 - 0s - loss: 0.2398 - accuracy: 0.9434 - val_loss: 0.2156 - val_accuracy: 0.9524\n",
      "Epoch 237/250\n"
     ]
    },
    {
     "name": "stdout",
     "output_type": "stream",
     "text": [
      "1890/1890 - 0s - loss: 0.2397 - accuracy: 0.9434 - val_loss: 0.2157 - val_accuracy: 0.9524\n",
      "Epoch 238/250\n",
      "1890/1890 - 0s - loss: 0.2397 - accuracy: 0.9434 - val_loss: 0.2156 - val_accuracy: 0.9524\n",
      "Epoch 239/250\n",
      "1890/1890 - 0s - loss: 0.2396 - accuracy: 0.9434 - val_loss: 0.2155 - val_accuracy: 0.9524\n",
      "Epoch 240/250\n",
      "1890/1890 - 0s - loss: 0.2395 - accuracy: 0.9434 - val_loss: 0.2154 - val_accuracy: 0.9524\n",
      "Epoch 241/250\n",
      "1890/1890 - 0s - loss: 0.2396 - accuracy: 0.9434 - val_loss: 0.2154 - val_accuracy: 0.9524\n",
      "Epoch 242/250\n",
      "1890/1890 - 0s - loss: 0.2394 - accuracy: 0.9434 - val_loss: 0.2153 - val_accuracy: 0.9524\n",
      "Epoch 243/250\n",
      "1890/1890 - 0s - loss: 0.2394 - accuracy: 0.9434 - val_loss: 0.2154 - val_accuracy: 0.9524\n",
      "Epoch 244/250\n",
      "1890/1890 - 0s - loss: 0.2393 - accuracy: 0.9434 - val_loss: 0.2153 - val_accuracy: 0.9524\n",
      "Epoch 245/250\n",
      "1890/1890 - 0s - loss: 0.2392 - accuracy: 0.9434 - val_loss: 0.2153 - val_accuracy: 0.9524\n",
      "Epoch 246/250\n",
      "1890/1890 - 0s - loss: 0.2392 - accuracy: 0.9434 - val_loss: 0.2152 - val_accuracy: 0.9524\n",
      "Epoch 247/250\n",
      "1890/1890 - 0s - loss: 0.2391 - accuracy: 0.9434 - val_loss: 0.2153 - val_accuracy: 0.9524\n",
      "Epoch 248/250\n",
      "1890/1890 - 0s - loss: 0.2392 - accuracy: 0.9434 - val_loss: 0.2152 - val_accuracy: 0.9524\n",
      "Epoch 249/250\n",
      "1890/1890 - 0s - loss: 0.2390 - accuracy: 0.9434 - val_loss: 0.2151 - val_accuracy: 0.9524\n",
      "Epoch 250/250\n",
      "1890/1890 - 0s - loss: 0.2389 - accuracy: 0.9434 - val_loss: 0.2151 - val_accuracy: 0.9524\n"
     ]
    }
   ],
   "source": [
    "result = model.fit(\n",
    "    x=scaled_train_samples,\n",
    "    y=train_lables,\n",
    "    validation_split=0.1,\n",
    "    batch_size=30,\n",
    "    epochs=250,               # train all data x times\n",
    "    shuffle=True,            # default True, the prior shuffle of the training data is still needed\n",
    "    verbose=2\n",
    ")\n",
    "\n",
    "# batch_size=25,\n",
    "# epochs=2000,   \n",
    "# Epoch 2000/2000 1890/1890 - 0s - loss: 0.1904 - accuracy: 0.9534 - val_loss: 0.2136 - val_accuracy: 0.9429\n",
    "\n",
    "# batch_size=10,\n",
    "# epochs=1000,  \n",
    "# Epoch 1000/1000 1890/1890 - 0s - loss: 0.1938 - accuracy: 0.9534 - val_loss: 0.2310 - val_accuracy: 0.9429\n",
    "\n",
    "#batch_size=10,\n",
    "#epochs=250, \n",
    "# Epoch 250/250   1890/1890 - 0s - loss: 0.1923 - accuracy: 0.9534 - val_loss: 0.2291 - val_accuracy: 0.9429\n",
    "\n",
    "# batch_size=30,\n",
    "# epochs=250, \n",
    "# Epoch 250/250  1890/1890 - 0s - loss: 0.2280 - accuracy: 0.9519 - val_loss: 0.2040 - val_accuracy: 0.9571"
   ]
  },
  {
   "cell_type": "code",
   "execution_count": 19,
   "metadata": {},
   "outputs": [
    {
     "name": "stdout",
     "output_type": "stream",
     "text": [
      "dict_keys(['loss', 'accuracy', 'val_loss', 'val_accuracy'])\n"
     ]
    },
    {
     "data": {
      "image/png": "[encoded data removed]",
      "text/plain": [
       "<Figure size 432x288 with 1 Axes>"
      ]
     },
     "metadata": {
      "needs_background": "light"
     },
     "output_type": "display_data"
    },
    {
     "data": {
      "image/png": "[encoded data removed]",
      "text/plain": [
       "<Figure size 432x288 with 1 Axes>"
      ]
     },
     "metadata": {
      "needs_background": "light"
     },
     "output_type": "display_data"
    }
   ],
   "source": [
    "print(result.history.keys())\n",
    "\n",
    "plt.plot(result.history['accuracy'])\n",
    "plt.plot(result.history['val_accuracy'])\n",
    "plt.title('model accuracy')\n",
    "plt.ylabel('accuracy')\n",
    "plt.xlabel('epoch')\n",
    "plt.legend(['train', 'test'], loc='upper left')\n",
    "plt.show()\n",
    "\n",
    "# summarize history for loss\n",
    "plt.plot(result.history['loss'])\n",
    "plt.plot(result.history['val_loss'])\n",
    "plt.title('model loss')\n",
    "plt.ylabel('loss')\n",
    "plt.xlabel('epoch')\n",
    "plt.legend(['train', 'test'], loc='lower left')\n",
    "plt.show()"
   ]
  },
  {
   "cell_type": "markdown",
   "metadata": {},
   "source": [
    "## Prediction (Inference)\n",
    "\n",
    "this section covers the video from [39:28](https://youtu.be/qFJeN9V1ZsI?t=2368) to 39:14."
   ]
  },
  {
   "cell_type": "code",
   "execution_count": 20,
   "metadata": {},
   "outputs": [],
   "source": [
    "## If the notebook above works properly, \n",
    "## you may want to uncomment the line below and export correct conda env.\n",
    "\n",
    "#!conda env export -n py36_TensorFlow > environment_py_36_TensorFlow.yml"
   ]
  },
  {
   "cell_type": "code",
   "execution_count": null,
   "metadata": {},
   "outputs": [],
   "source": []
  }
 ],
 "metadata": {
  "kernelspec": {
   "display_name": "Python_3.6_TensorFlow",
   "language": "python",
   "name": "py36_tensorflow"
  },
  "language_info": {
   "codemirror_mode": {
    "name": "ipython",
    "version": 3
   },
   "file_extension": ".py",
   "mimetype": "text/x-python",
   "name": "python",
   "nbconvert_exporter": "python",
   "pygments_lexer": "ipython3",
   "version": "3.6.10"
  },
  "toc": {
   "base_numbering": 1,
   "nav_menu": {},
   "number_sections": true,
   "sideBar": true,
   "skip_h1_title": true,
   "title_cell": "Table of Contents",
   "title_sidebar": "Contents",
   "toc_cell": true,
   "toc_position": {},
   "toc_section_display": true,
   "toc_window_display": true
  }
 },
 "nbformat": 4,
 "nbformat_minor": 4
}

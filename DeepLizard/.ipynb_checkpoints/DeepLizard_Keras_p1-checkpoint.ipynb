{
 "cells": [
  {
   "cell_type": "markdown",
   "metadata": {},
   "source": [
    "# Keras with Mandy - Part 1\n",
    "\n",
    "\n",
    "\n",
    "<div>\n",
    "    <table style=\"width:100%\">\n",
    "        <tr>\n",
    "            <td> </td>\n",
    "            <td></td>\n",
    "        </tr>        \n",
    "        <tr>\n",
    "            <td style=\"text-align:left\" \n",
    "                > This is a code-along with Mandy from <a href=\"https://deeplizard.com/learn/playlist/PLZbbT5o_s2xrwRnXk_yCPtnqqo4_u2YGL\" \n",
    "                >DeepLizard.com</a>. </td>\n",
    "            <td style=\"text-align:right\"><img src=\"DeepLizard_logo.png\" width=\"100\" /></td>\n",
    "        </tr>\n",
    "    </table>\n",
    "</div>"
   ]
  },
  {
   "cell_type": "markdown",
   "metadata": {
    "toc": true
   },
   "source": [
    "<h1>Table of Contents<span class=\"tocSkip\"></span></h1>\n",
    "<div class=\"toc\"><ul class=\"toc-item\"><li><span><a href=\"#Data-Preparation-and-Processing\" data-toc-modified-id=\"Data-Preparation-and-Processing-1\"><span class=\"toc-item-num\">1&nbsp;&nbsp;</span>Data Preparation and Processing</a></span><ul class=\"toc-item\"><li><span><a href=\"#Example-Data-(Clinical-Trial)\" data-toc-modified-id=\"Example-Data-(Clinical-Trial)-1.1\"><span class=\"toc-item-num\">1.1&nbsp;&nbsp;</span>Example Data (Clinical Trial)</a></span></li><li><span><a href=\"#Plot-data\" data-toc-modified-id=\"Plot-data-1.2\"><span class=\"toc-item-num\">1.2&nbsp;&nbsp;</span>Plot data</a></span></li><li><span><a href=\"#Make-NumPy-arrays\" data-toc-modified-id=\"Make-NumPy-arrays-1.3\"><span class=\"toc-item-num\">1.3&nbsp;&nbsp;</span>Make NumPy arrays</a></span></li><li><span><a href=\"#Shuffle-the-data\" data-toc-modified-id=\"Shuffle-the-data-1.4\"><span class=\"toc-item-num\">1.4&nbsp;&nbsp;</span>Shuffle the data</a></span></li><li><span><a href=\"#Rescale-the-the-data\" data-toc-modified-id=\"Rescale-the-the-data-1.5\"><span class=\"toc-item-num\">1.5&nbsp;&nbsp;</span>Rescale the the data</a></span></li></ul></li><li><span><a href=\"#Keras-TensorFlow-model\" data-toc-modified-id=\"Keras-TensorFlow-model-2\"><span class=\"toc-item-num\">2&nbsp;&nbsp;</span>Keras TensorFlow model</a></span><ul class=\"toc-item\"><li><span><a href=\"#Set-up-Tensorflow-and-Keras\" data-toc-modified-id=\"Set-up-Tensorflow-and-Keras-2.1\"><span class=\"toc-item-num\">2.1&nbsp;&nbsp;</span>Set up Tensorflow and Keras</a></span></li><li><span><a href=\"#Run-Tensorflow-on-NVidia-GPU\" data-toc-modified-id=\"Run-Tensorflow-on-NVidia-GPU-2.2\"><span class=\"toc-item-num\">2.2&nbsp;&nbsp;</span>Run Tensorflow on NVidia GPU</a></span></li><li><span><a href=\"#Define-the-model-layers\" data-toc-modified-id=\"Define-the-model-layers-2.3\"><span class=\"toc-item-num\">2.3&nbsp;&nbsp;</span>Define the model layers</a></span></li></ul></li></ul></div>"
   ]
  },
  {
   "cell_type": "markdown",
   "metadata": {},
   "source": [
    "## Data Preparation and Processing\n",
    "\n",
    "[the video starts at ...](https://www.youtube.com/watch?v=qFJeN9V1ZsI&feature=youtu.be&t=647)"
   ]
  },
  {
   "cell_type": "code",
   "execution_count": 1,
   "metadata": {},
   "outputs": [],
   "source": [
    "## Uncomment for the first run\n",
    "# !pip install matplotlib\n",
    "# !pip install -U scikit-learn\n",
    "# !conda update --all -y"
   ]
  },
  {
   "cell_type": "code",
   "execution_count": 2,
   "metadata": {},
   "outputs": [],
   "source": [
    "import numpy as np\n",
    "from random import randint\n",
    "from sklearn.utils import shuffle\n",
    "from sklearn.preprocessing import MinMaxScaler"
   ]
  },
  {
   "cell_type": "code",
   "execution_count": 3,
   "metadata": {},
   "outputs": [],
   "source": [
    "train_lables = []\n",
    "train_samples = []"
   ]
  },
  {
   "cell_type": "markdown",
   "metadata": {},
   "source": [
    "### Example Data (Clinical Trial)\n",
    "- An experimental drug was tested on individuals from ages 13 to 100 in a clinical trial.\n",
    "- The trail had 2100 participants. Half were under 65 years old, half were older.\n",
    "- Around 95% of patients ...\n",
    "\n",
    "[the video starts at ..](https://youtu.be/qFJeN9V1ZsI?t=750)\n"
   ]
  },
  {
   "cell_type": "code",
   "execution_count": 4,
   "metadata": {},
   "outputs": [],
   "source": [
    "for i in range (50):\n",
    "    # The ~5% of younger individuals who did experience side effects\n",
    "    random_younger = randint(13, 64)\n",
    "    train_samples.append(random_younger)\n",
    "    train_lables.append(1) # side effects\n",
    "    \n",
    "    # The ~5% of older individuals who did not experience side effects\n",
    "    random_older = randint(65, 100)\n",
    "    train_samples.append(random_older)\n",
    "    train_lables.append(0) # no side effects\n",
    "    \n",
    "for i in range(1000):\n",
    "    # The ~95% of younger individuals who did not experience side effects\n",
    "    random_younger = randint(13, 64)\n",
    "    train_samples.append(random_younger)\n",
    "    train_lables.append(0)\n",
    "    \n",
    "    # The ~95% of older individuals who did not experience side effects\n",
    "    random_older = randint(65, 100)\n",
    "    train_samples.append(random_older)\n",
    "    train_lables.append(1)\n",
    "    "
   ]
  },
  {
   "cell_type": "markdown",
   "metadata": {},
   "source": [
    "### Plot data"
   ]
  },
  {
   "cell_type": "code",
   "execution_count": 5,
   "metadata": {},
   "outputs": [
    {
     "data": {
      "image/png": "[encoded data removed]",
      "text/plain": [
       "<Figure size 432x288 with 1 Axes>"
      ]
     },
     "metadata": {
      "needs_background": "light"
     },
     "output_type": "display_data"
    }
   ],
   "source": [
    "# This plot is not in the video, but it is useful to visualize the data\n",
    "import numpy as np\n",
    "import matplotlib.pyplot as plt\n",
    "\n",
    "plt.scatter(train_samples, train_lables, alpha=0.1)\n",
    "plt.title('Side effects in relationship to age')\n",
    "plt.xlabel('age')\n",
    "plt.ylabel('side effects == 1')\n",
    "plt.show()"
   ]
  },
  {
   "cell_type": "markdown",
   "metadata": {},
   "source": [
    "### Make NumPy arrays\n",
    "\n",
    "[the video continues from 16:02](https://youtu.be/qFJeN9V1ZsI?t=962)"
   ]
  },
  {
   "cell_type": "code",
   "execution_count": 6,
   "metadata": {},
   "outputs": [],
   "source": [
    "train_lables = np.array(train_lables)\n",
    "train_samples = np.array(train_samples)"
   ]
  },
  {
   "cell_type": "markdown",
   "metadata": {},
   "source": [
    "### Shuffle the data"
   ]
  },
  {
   "cell_type": "code",
   "execution_count": 7,
   "metadata": {},
   "outputs": [],
   "source": [
    "train_lables, train_samples = shuffle(train_lables, train_samples)"
   ]
  },
  {
   "cell_type": "markdown",
   "metadata": {},
   "source": [
    "### Rescale the the data\n",
    "\n",
    "We are rescaling the age data from range of (16 to 100) to (-1 to 1)."
   ]
  },
  {
   "cell_type": "code",
   "execution_count": 8,
   "metadata": {},
   "outputs": [],
   "source": [
    "scaler = MinMaxScaler(feature_range=(0,1))\n",
    "scaled_train_samples = scaler.fit_transform(train_samples.reshape(-1,1))"
   ]
  },
  {
   "cell_type": "code",
   "execution_count": 9,
   "metadata": {},
   "outputs": [
    {
     "data": {
      "image/png": "[encoded data removed]",
      "text/plain": [
       "<Figure size 432x288 with 1 Axes>"
      ]
     },
     "metadata": {
      "needs_background": "light"
     },
     "output_type": "display_data"
    }
   ],
   "source": [
    "# This plot is not in the video, but it is useful to visualize the data\n",
    "import numpy as np\n",
    "import matplotlib.pyplot as plt\n",
    "\n",
    "plt.scatter(scaled_train_samples, train_lables, alpha=0.1)\n",
    "plt.title('Side effects in relationship to age')\n",
    "plt.xlabel('age (scaled to -1,1)')\n",
    "plt.ylabel('side effects == 1')\n",
    "plt.show()"
   ]
  },
  {
   "cell_type": "markdown",
   "metadata": {},
   "source": [
    "##  Keras TensorFlow model\n",
    "\n",
    "[the video continues from 18:39](https://youtu.be/qFJeN9V1ZsI?t=1119)"
   ]
  },
  {
   "cell_type": "markdown",
   "metadata": {},
   "source": [
    "### Set up Tensorflow and Keras"
   ]
  },
  {
   "cell_type": "markdown",
   "metadata": {},
   "source": [
    "To install a new Tensorflow conda enviroment in commad line:\n",
    "\n",
    "see my [blog post](https://ukidlucas.blogspot.com/2018/10/ipykernel.html)"
   ]
  },
  {
   "cell_type": "code",
   "execution_count": 10,
   "metadata": {},
   "outputs": [],
   "source": [
    "import tensorflow as tf"
   ]
  },
  {
   "cell_type": "markdown",
   "metadata": {},
   "source": [
    "- [CategoricalCrossentropy class](https://keras.io/api/losses/probabilistic_losses/#categoricalcrossentropy-class)"
   ]
  },
  {
   "cell_type": "code",
   "execution_count": 11,
   "metadata": {},
   "outputs": [],
   "source": [
    "from tensorflow import keras\n",
    "from tensorflow.keras.models import Sequential \n",
    "from tensorflow.keras.layers import Activation, Dense \n",
    "from tensorflow.keras.optimizers import Adam\n",
    "from tensorflow.keras.metrics import categorical_crossentropy"
   ]
  },
  {
   "cell_type": "markdown",
   "metadata": {},
   "source": [
    "### Run Tensorflow on NVidia GPU\n",
    "\n",
    "If you have Nvidia GPU"
   ]
  },
  {
   "cell_type": "code",
   "execution_count": 12,
   "metadata": {},
   "outputs": [
    {
     "name": "stdout",
     "output_type": "stream",
     "text": [
      "Num GPU Available:  0\n"
     ]
    }
   ],
   "source": [
    "physical_devices = tf.config.experimental.list_physical_devices('GPU')\n",
    "num_gpu_available = len(physical_devices)\n",
    "print(\"Num GPU Available: \", num_gpu_available)"
   ]
  },
  {
   "cell_type": "code",
   "execution_count": 13,
   "metadata": {},
   "outputs": [],
   "source": [
    "if (num_gpu_available > 0):\n",
    "    tf.config.experimental.set_memory_growth(physical_devices[0], True)\n",
    "    print(\"NVidia GPU is being used\")"
   ]
  },
  {
   "cell_type": "markdown",
   "metadata": {},
   "source": [
    "### Define the model layers\n",
    "\n",
    "- input layer (not explicitly declared)\n",
    "- hidden dense (fully connected) layer with (arbitrary) 16 nodes (units)\n",
    "    - relu function returns 0 for anything below zero and value for anything above zero\n",
    "- hidden dense (fully connected) layer with (arbitrary) 32 nodes (units)\n",
    "    - relu function returns 0 for anything below zero and value for anything above zero\n",
    "- output dense (fully connected) layer with resulting (side effects, or not) 2 nodes (units)\n",
    "    - softmax function returns probablity"
   ]
  },
  {
   "cell_type": "code",
   "execution_count": 14,
   "metadata": {},
   "outputs": [],
   "source": [
    "model=Sequential([\n",
    "    Dense(units=16, input_shape=(1,), activation='relu'),\n",
    "    Dense(units=32, activation='relu'),\n",
    "    Dense(units=2, activation='softmax')\n",
    "])"
   ]
  },
  {
   "cell_type": "code",
   "execution_count": 15,
   "metadata": {},
   "outputs": [
    {
     "name": "stdout",
     "output_type": "stream",
     "text": [
      "Model: \"sequential\"\n",
      "_________________________________________________________________\n",
      "Layer (type)                 Output Shape              Param #   \n",
      "=================================================================\n",
      "dense (Dense)                (None, 16)                32        \n",
      "_________________________________________________________________\n",
      "dense_1 (Dense)              (None, 32)                544       \n",
      "_________________________________________________________________\n",
      "dense_2 (Dense)              (None, 2)                 66        \n",
      "=================================================================\n",
      "Total params: 642\n",
      "Trainable params: 642\n",
      "Non-trainable params: 0\n",
      "_________________________________________________________________\n"
     ]
    }
   ],
   "source": [
    "model.summary()"
   ]
  },
  {
   "cell_type": "markdown",
   "metadata": {},
   "source": [
    "## Training the model\n",
    "    \n",
    "    \n",
    "this section covers the video from [24:38](https://youtu.be/qFJeN9V1ZsI?t=1477) to 29:50."
   ]
  },
  {
   "cell_type": "code",
   "execution_count": 16,
   "metadata": {},
   "outputs": [],
   "source": [
    "model.compile(\n",
    "    optimizer=Adam(learning_rate=0.0001), \n",
    "    loss='sparse_categorical_crossentropy',\n",
    "    metrics=['accuracy']\n",
    ")"
   ]
  },
  {
   "cell_type": "code",
   "execution_count": 17,
   "metadata": {},
   "outputs": [
    {
     "name": "stdout",
     "output_type": "stream",
     "text": [
      "Train on 2100 samples\n",
      "Epoch 1/15\n",
      "2100/2100 - 0s - loss: 0.6633 - accuracy: 0.5352\n",
      "Epoch 2/15\n",
      "2100/2100 - 0s - loss: 0.6352 - accuracy: 0.5948\n",
      "Epoch 3/15\n",
      "2100/2100 - 0s - loss: 0.6089 - accuracy: 0.6357\n",
      "Epoch 4/15\n",
      "2100/2100 - 0s - loss: 0.5825 - accuracy: 0.6900\n",
      "Epoch 5/15\n",
      "2100/2100 - 0s - loss: 0.5551 - accuracy: 0.7271\n",
      "Epoch 6/15\n",
      "2100/2100 - 0s - loss: 0.5265 - accuracy: 0.7681\n",
      "Epoch 7/15\n",
      "2100/2100 - 0s - loss: 0.4973 - accuracy: 0.8019\n",
      "Epoch 8/15\n",
      "2100/2100 - 0s - loss: 0.4682 - accuracy: 0.8314\n",
      "Epoch 9/15\n",
      "2100/2100 - 0s - loss: 0.4405 - accuracy: 0.8514\n",
      "Epoch 10/15\n",
      "2100/2100 - 0s - loss: 0.4146 - accuracy: 0.8710\n",
      "Epoch 11/15\n",
      "2100/2100 - 0s - loss: 0.3911 - accuracy: 0.8800\n",
      "Epoch 12/15\n",
      "2100/2100 - 0s - loss: 0.3700 - accuracy: 0.8938\n",
      "Epoch 13/15\n",
      "2100/2100 - 0s - loss: 0.3520 - accuracy: 0.9000\n",
      "Epoch 14/15\n",
      "2100/2100 - 0s - loss: 0.3364 - accuracy: 0.9100\n",
      "Epoch 15/15\n",
      "2100/2100 - 0s - loss: 0.3231 - accuracy: 0.9152\n"
     ]
    }
   ],
   "source": [
    "result = model.fit(\n",
    "    x=scaled_train_samples,\n",
    "    y=train_lables,\n",
    "    batch_size=10,\n",
    "    epochs=15,               # train all data x times\n",
    "    shuffle=True,            # default True\n",
    "    verbose=2\n",
    ")"
   ]
  },
  {
   "cell_type": "code",
   "execution_count": 18,
   "metadata": {},
   "outputs": [
    {
     "data": {
      "text/plain": [
       "<tensorflow.python.keras.callbacks.History at 0x7fc2dec5deb8>"
      ]
     },
     "execution_count": 18,
     "metadata": {},
     "output_type": "execute_result"
    }
   ],
   "source": [
    "result"
   ]
  },
  {
   "cell_type": "markdown",
   "metadata": {},
   "source": [
    "## Validation\n",
    "\n",
    "this section covers the video from [29:50](https://youtu.be/qFJeN9V1ZsI?t=1477) to 29:50.\n",
    "\n",
    "Overfitting: learning well on the training data, but not able to \"generalize\" in order to perform on the new (validation) data."
   ]
  },
  {
   "cell_type": "code",
   "execution_count": 19,
   "metadata": {},
   "outputs": [
    {
     "name": "stdout",
     "output_type": "stream",
     "text": [
      "Train on 1890 samples, validate on 210 samples\n",
      "Epoch 1/15\n",
      "1890/1890 - 0s - loss: 0.3116 - accuracy: 0.9212 - val_loss: 0.3178 - val_accuracy: 0.9000\n",
      "Epoch 2/15\n",
      "1890/1890 - 0s - loss: 0.3028 - accuracy: 0.9238 - val_loss: 0.3099 - val_accuracy: 0.9000\n",
      "Epoch 3/15\n",
      "1890/1890 - 0s - loss: 0.2954 - accuracy: 0.9265 - val_loss: 0.3031 - val_accuracy: 0.9095\n",
      "Epoch 4/15\n",
      "1890/1890 - 0s - loss: 0.2893 - accuracy: 0.9259 - val_loss: 0.2973 - val_accuracy: 0.9095\n",
      "Epoch 5/15\n",
      "1890/1890 - 0s - loss: 0.2839 - accuracy: 0.9307 - val_loss: 0.2945 - val_accuracy: 0.9095\n",
      "Epoch 6/15\n",
      "1890/1890 - 0s - loss: 0.2794 - accuracy: 0.9296 - val_loss: 0.2894 - val_accuracy: 0.9333\n",
      "Epoch 7/15\n",
      "1890/1890 - 0s - loss: 0.2756 - accuracy: 0.9312 - val_loss: 0.2863 - val_accuracy: 0.9333\n",
      "Epoch 8/15\n",
      "1890/1890 - 0s - loss: 0.2723 - accuracy: 0.9344 - val_loss: 0.2851 - val_accuracy: 0.9333\n",
      "Epoch 9/15\n",
      "1890/1890 - 0s - loss: 0.2692 - accuracy: 0.9323 - val_loss: 0.2811 - val_accuracy: 0.9333\n",
      "Epoch 10/15\n",
      "1890/1890 - 0s - loss: 0.2671 - accuracy: 0.9344 - val_loss: 0.2807 - val_accuracy: 0.9333\n",
      "Epoch 11/15\n",
      "1890/1890 - 0s - loss: 0.2648 - accuracy: 0.9344 - val_loss: 0.2789 - val_accuracy: 0.9333\n",
      "Epoch 12/15\n",
      "1890/1890 - 0s - loss: 0.2630 - accuracy: 0.9344 - val_loss: 0.2791 - val_accuracy: 0.9333\n",
      "Epoch 13/15\n",
      "1890/1890 - 0s - loss: 0.2612 - accuracy: 0.9376 - val_loss: 0.2790 - val_accuracy: 0.9333\n",
      "Epoch 14/15\n",
      "1890/1890 - 0s - loss: 0.2597 - accuracy: 0.9344 - val_loss: 0.2767 - val_accuracy: 0.9333\n",
      "Epoch 15/15\n",
      "1890/1890 - 0s - loss: 0.2582 - accuracy: 0.9349 - val_loss: 0.2745 - val_accuracy: 0.9381\n"
     ]
    }
   ],
   "source": [
    "result = model.fit(\n",
    "    x=scaled_train_samples,\n",
    "    y=train_lables,\n",
    "    validation_split=0.1,\n",
    "    batch_size=10,\n",
    "    epochs=15,               # train all data x times\n",
    "    shuffle=True,            # default True, the prior shuffle of the training data is still needed\n",
    "    verbose=2\n",
    ")"
   ]
  }
 ],
 "metadata": {
  "kernelspec": {
   "display_name": "Python 3.6.10 64-bit ('turi': conda)",
   "language": "python",
   "name": "python361064bitturiconda565ecc262d0845fbb235ae21ac24296f"
  },
  "language_info": {
   "codemirror_mode": {
    "name": "ipython",
    "version": 3
   },
   "file_extension": ".py",
   "mimetype": "text/x-python",
   "name": "python",
   "nbconvert_exporter": "python",
   "pygments_lexer": "ipython3",
   "version": "3.6.10"
  },
  "toc": {
   "base_numbering": 1,
   "nav_menu": {},
   "number_sections": true,
   "sideBar": true,
   "skip_h1_title": true,
   "title_cell": "Table of Contents",
   "title_sidebar": "Contents",
   "toc_cell": true,
   "toc_position": {},
   "toc_section_display": true,
   "toc_window_display": true
  }
 },
 "nbformat": 4,
 "nbformat_minor": 4
}
